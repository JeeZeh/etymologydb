{
 "cells": [
  {
   "cell_type": "code",
   "execution_count": null,
   "metadata": {},
   "outputs": [],
   "source": [
    "import pandas as pd\n",
    "\n",
    "frame = pd.read_parquet(\"./import/etymology.parquet\")\n",
    "\n",
    "frame"
   ]
  },
  {
   "cell_type": "code",
   "execution_count": null,
   "metadata": {},
   "outputs": [],
   "source": [
    "def write_lines(file_name: str, data: pd.DataFrame):\n",
    "    with open(file_name, mode=\"w+\", encoding=\"utf-16\") as file:\n",
    "        file.writelines(l + \"\\n\" for l in iter(data))"
   ]
  },
  {
   "cell_type": "code",
   "execution_count": null,
   "metadata": {},
   "outputs": [],
   "source": [
    "# Words\n",
    "def word_cypher(row: pd.DataFrame):\n",
    "    return f\"CREATE (w:Word {{ id: \\\"{row['term_id']}\\\", lang: \\\"{row['lang']}\\\", term: \\\"{row['term']}\\\" }});\"\n",
    "\n",
    "\n",
    "word_data = (\n",
    "    frame[[\"term_id\", \"term\", \"lang\"]]\n",
    "    .dropna()\n",
    "    .drop_duplicates()\n",
    "    # .apply(word_cypher, axis=\"columns\")\n",
    ")\n",
    "\n",
    "# LOAD CSV FROM \"/import/words.csv\" NO HEADER DELIMITER \"|\" AS line\n",
    "# CREATE (w:Word { id: line[0], lang: line[1], term: line[2] })\n",
    "# RETURN COUNT(w) AS `Inserted`;\n",
    "\n",
    "# write_lines(\"./import/sample_words.cypherl\", word_data.iloc[0:10000])\n",
    "# write_lines(\"./import/words.cypherl\", word_data)\n",
    "word_data.iloc[:10000].to_csv(\n",
    "    \"./import/sample_words.csv\", sep=\"|\", encoding=\"utf-8\", index=False\n",
    ")\n",
    "word_data.to_csv(\n",
    "    \"./import/words.csv\", sep=\"|\", encoding=\"utf-8\", index=False\n",
    ")\n",
    "# write_lines(\"./import/sample_words.csv\", word_data)\n",
    "# write_lines(\"./import/words.csv\", word_data)"
   ]
  },
  {
   "cell_type": "code",
   "execution_count": null,
   "metadata": {},
   "outputs": [],
   "source": [
    "# Relationships\n",
    "mapper = {\"term_id\": \"from\", \"reltype\": \"rel\", \"related_term_id\": \"to\"}\n",
    "relations = (\n",
    "    frame[list(mapper.keys())]\n",
    "    .dropna()\n",
    "    .drop_duplicates()\n",
    "    .rename(mapper=mapper, axis=\"columns\")\n",
    ")\n",
    "relations.to_csv(\"./import/relations.csv\", sep=\"|\", encoding=\"utf-8\", index=False)"
   ]
  }
 ],
 "metadata": {
  "kernelspec": {
   "display_name": "Python 3",
   "language": "python",
   "name": "python3"
  },
  "language_info": {
   "codemirror_mode": {
    "name": "ipython",
    "version": 3
   },
   "file_extension": ".py",
   "mimetype": "text/x-python",
   "name": "python",
   "nbconvert_exporter": "python",
   "pygments_lexer": "ipython3",
   "version": "3.10.5"
  }
 },
 "nbformat": 4,
 "nbformat_minor": 2
}
